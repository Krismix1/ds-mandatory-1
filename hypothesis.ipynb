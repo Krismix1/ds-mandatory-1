{
 "cells": [
  {
   "cell_type": "markdown",
   "metadata": {},
   "source": [
    "### ***Physical (objective) attributes of the course outweigh the psychological (subjective) ones in regards to the number of repeats***"
   ]
  },
  {
   "cell_type": "code",
   "execution_count": 2,
   "metadata": {},
   "outputs": [],
   "source": [
    "import numpy as np\n",
    "import pandas as pd\n",
    "import matplotlib.pyplot as plt\n",
    "\n",
    "df = pd.read_csv('data.csv')\n",
    "max_quests = 28\n",
    "all_quests = list(map(lambda x: f'Q{x}', range(1, max_quests+1)))\n",
    "\n",
    "quest_categs = {\n",
    "    'structured': [1, 4, 15, 26],\n",
    "    'contentful': [3, 5, 6, 13, 14, 24],\n",
    "    'interactive': [7, 8, 23],\n",
    "    'teaching quality': [16, 17, 18, 20, 25, 27],\n",
    "    'personal': [9, 21, 22, 28],\n",
    "    'dropped': []\n",
    "}"
   ]
  }
 ],
 "metadata": {
  "kernelspec": {
   "display_name": "Python 3",
   "language": "python",
   "name": "python3"
  },
  "language_info": {
   "codemirror_mode": {
    "name": "ipython",
    "version": 3
   },
   "file_extension": ".py",
   "mimetype": "text/x-python",
   "name": "python",
   "nbconvert_exporter": "python",
   "pygments_lexer": "ipython3",
   "version": "3.7.3"
  }
 },
 "nbformat": 4,
 "nbformat_minor": 2
}
