{
 "cells": [
  {
   "cell_type": "code",
   "execution_count": 2,
   "metadata": {},
   "outputs": [],
   "source": [
    "import numpy as np\n",
    "import pandas as pd\n",
    "import matplotlib.pyplot as plt\n",
    "from matplotlib.patches import Rectangle"
   ]
  },
  {
   "cell_type": "code",
   "execution_count": 82,
   "metadata": {},
   "outputs": [
    {
     "name": "stdout",
     "output_type": "stream",
     "text": [
      "[1 3 2]\n",
      "[0 1 2 3 4]\n"
     ]
    }
   ],
   "source": [
    "questions = {\n",
    "    'course': map(lambda x: 'Q'+str(x), [1, 2, 3, 4, 5, 6, 7, 8]),\n",
    "    'instructor': map(lambda x: 'Q'+str(x), [13, 14, 15, 16, 17, 18, 19, 20, 21, 22, 23, 24, 25, 26, 27, 28]),\n",
    "    'personal': map(lambda x: 'Q'+str(x), [9, 10, 11, 12])\n",
    "}\n",
    "df = pd.read_csv('data.csv')\n",
    "#df['difficulty'] = df['difficulty'].map(lambda x: x - 2)\n",
    "print(df['nb.repeat'].unique())\n",
    "print(df['attendance'].unique())"
   ]
  },
  {
   "cell_type": "code",
   "execution_count": 4,
   "metadata": {},
   "outputs": [
    {
     "data": {
      "text/plain": [
       "instr\n",
       "1                 [2, 7, 10]\n",
       "2             [1, 6, 11, 13]\n",
       "3    [3, 4, 5, 8, 9, 12, 13]\n",
       "Name: class, dtype: object"
      ]
     },
     "execution_count": 4,
     "metadata": {},
     "output_type": "execute_result"
    }
   ],
   "source": [
    "# which classes does each instructor teach\n",
    "df.groupby('instr')['class'].unique()"
   ]
  },
  {
   "cell_type": "code",
   "execution_count": 5,
   "metadata": {},
   "outputs": [
    {
     "data": {
      "text/plain": [
       "instr\n",
       "1     70\n",
       "2    153\n",
       "3    688\n",
       "Name: nb.repeat, dtype: int64"
      ]
     },
     "execution_count": 5,
     "metadata": {},
     "output_type": "execute_result"
    }
   ],
   "source": [
    "# for each teacher find how many rows that have nb.repeat > 1\n",
    "df[df['nb.repeat'] > 1].groupby('instr')['nb.repeat'].count()"
   ]
  },
  {
   "cell_type": "code",
   "execution_count": 6,
   "metadata": {},
   "outputs": [
    {
     "data": {
      "text/plain": [
       "instr\n",
       "1     705\n",
       "2    1291\n",
       "3    2913\n",
       "Name: nb.repeat, dtype: int64"
      ]
     },
     "execution_count": 6,
     "metadata": {},
     "output_type": "execute_result"
    }
   ],
   "source": [
    "# for each teacher find how many rows that have nb.repeat == 1\n",
    "df[df['nb.repeat'] == 1].groupby('instr')['nb.repeat'].count()"
   ]
  },
  {
   "cell_type": "code",
   "execution_count": 7,
   "metadata": {},
   "outputs": [
    {
     "data": {
      "text/plain": [
       "instr\n",
       "1     775\n",
       "2    1444\n",
       "3    3601\n",
       "Name: nb.repeat, dtype: int64"
      ]
     },
     "execution_count": 7,
     "metadata": {},
     "output_type": "execute_result"
    }
   ],
   "source": [
    "df.groupby('instr')['nb.repeat'].count()"
   ]
  },
  {
   "cell_type": "code",
   "execution_count": 8,
   "metadata": {},
   "outputs": [
    {
     "data": {
      "text/plain": [
       "attendance\n",
       "0    1902\n",
       "1    1028\n",
       "2     792\n",
       "3    1252\n",
       "4     846\n",
       "Name: attendance, dtype: int64"
      ]
     },
     "execution_count": 8,
     "metadata": {},
     "output_type": "execute_result"
    }
   ],
   "source": [
    "df.groupby('attendance')['attendance'].count()"
   ]
  },
  {
   "cell_type": "code",
   "execution_count": 9,
   "metadata": {},
   "outputs": [
    {
     "data": {
      "text/html": [
       "<div>\n",
       "<style scoped>\n",
       "    .dataframe tbody tr th:only-of-type {\n",
       "        vertical-align: middle;\n",
       "    }\n",
       "\n",
       "    .dataframe tbody tr th {\n",
       "        vertical-align: top;\n",
       "    }\n",
       "\n",
       "    .dataframe thead th {\n",
       "        text-align: right;\n",
       "    }\n",
       "</style>\n",
       "<table border=\"1\" class=\"dataframe\">\n",
       "  <thead>\n",
       "    <tr style=\"text-align: right;\">\n",
       "      <th></th>\n",
       "      <th>attendance</th>\n",
       "      <th>difficulty</th>\n",
       "      <th>count</th>\n",
       "    </tr>\n",
       "  </thead>\n",
       "  <tbody>\n",
       "    <tr>\n",
       "      <th>0</th>\n",
       "      <td>0</td>\n",
       "      <td>1</td>\n",
       "      <td>1317</td>\n",
       "    </tr>\n",
       "    <tr>\n",
       "      <th>17</th>\n",
       "      <td>3</td>\n",
       "      <td>3</td>\n",
       "      <td>500</td>\n",
       "    </tr>\n",
       "    <tr>\n",
       "      <th>18</th>\n",
       "      <td>3</td>\n",
       "      <td>4</td>\n",
       "      <td>395</td>\n",
       "    </tr>\n",
       "    <tr>\n",
       "      <th>7</th>\n",
       "      <td>1</td>\n",
       "      <td>3</td>\n",
       "      <td>380</td>\n",
       "    </tr>\n",
       "    <tr>\n",
       "      <th>12</th>\n",
       "      <td>2</td>\n",
       "      <td>3</td>\n",
       "      <td>344</td>\n",
       "    </tr>\n",
       "    <tr>\n",
       "      <th>22</th>\n",
       "      <td>4</td>\n",
       "      <td>3</td>\n",
       "      <td>329</td>\n",
       "    </tr>\n",
       "    <tr>\n",
       "      <th>8</th>\n",
       "      <td>1</td>\n",
       "      <td>4</td>\n",
       "      <td>251</td>\n",
       "    </tr>\n",
       "    <tr>\n",
       "      <th>13</th>\n",
       "      <td>2</td>\n",
       "      <td>4</td>\n",
       "      <td>229</td>\n",
       "    </tr>\n",
       "    <tr>\n",
       "      <th>2</th>\n",
       "      <td>0</td>\n",
       "      <td>3</td>\n",
       "      <td>221</td>\n",
       "    </tr>\n",
       "    <tr>\n",
       "      <th>23</th>\n",
       "      <td>4</td>\n",
       "      <td>4</td>\n",
       "      <td>205</td>\n",
       "    </tr>\n",
       "    <tr>\n",
       "      <th>6</th>\n",
       "      <td>1</td>\n",
       "      <td>2</td>\n",
       "      <td>181</td>\n",
       "    </tr>\n",
       "    <tr>\n",
       "      <th>19</th>\n",
       "      <td>3</td>\n",
       "      <td>5</td>\n",
       "      <td>156</td>\n",
       "    </tr>\n",
       "    <tr>\n",
       "      <th>24</th>\n",
       "      <td>4</td>\n",
       "      <td>5</td>\n",
       "      <td>151</td>\n",
       "    </tr>\n",
       "    <tr>\n",
       "      <th>3</th>\n",
       "      <td>0</td>\n",
       "      <td>4</td>\n",
       "      <td>145</td>\n",
       "    </tr>\n",
       "    <tr>\n",
       "      <th>9</th>\n",
       "      <td>1</td>\n",
       "      <td>5</td>\n",
       "      <td>136</td>\n",
       "    </tr>\n",
       "    <tr>\n",
       "      <th>4</th>\n",
       "      <td>0</td>\n",
       "      <td>5</td>\n",
       "      <td>120</td>\n",
       "    </tr>\n",
       "    <tr>\n",
       "      <th>16</th>\n",
       "      <td>3</td>\n",
       "      <td>2</td>\n",
       "      <td>109</td>\n",
       "    </tr>\n",
       "    <tr>\n",
       "      <th>1</th>\n",
       "      <td>0</td>\n",
       "      <td>2</td>\n",
       "      <td>99</td>\n",
       "    </tr>\n",
       "    <tr>\n",
       "      <th>15</th>\n",
       "      <td>3</td>\n",
       "      <td>1</td>\n",
       "      <td>92</td>\n",
       "    </tr>\n",
       "    <tr>\n",
       "      <th>14</th>\n",
       "      <td>2</td>\n",
       "      <td>5</td>\n",
       "      <td>89</td>\n",
       "    </tr>\n",
       "    <tr>\n",
       "      <th>21</th>\n",
       "      <td>4</td>\n",
       "      <td>2</td>\n",
       "      <td>84</td>\n",
       "    </tr>\n",
       "    <tr>\n",
       "      <th>5</th>\n",
       "      <td>1</td>\n",
       "      <td>1</td>\n",
       "      <td>80</td>\n",
       "    </tr>\n",
       "    <tr>\n",
       "      <th>20</th>\n",
       "      <td>4</td>\n",
       "      <td>1</td>\n",
       "      <td>77</td>\n",
       "    </tr>\n",
       "    <tr>\n",
       "      <th>11</th>\n",
       "      <td>2</td>\n",
       "      <td>2</td>\n",
       "      <td>76</td>\n",
       "    </tr>\n",
       "    <tr>\n",
       "      <th>10</th>\n",
       "      <td>2</td>\n",
       "      <td>1</td>\n",
       "      <td>54</td>\n",
       "    </tr>\n",
       "  </tbody>\n",
       "</table>\n",
       "</div>"
      ],
      "text/plain": [
       "    attendance  difficulty  count\n",
       "0            0           1   1317\n",
       "17           3           3    500\n",
       "18           3           4    395\n",
       "7            1           3    380\n",
       "12           2           3    344\n",
       "22           4           3    329\n",
       "8            1           4    251\n",
       "13           2           4    229\n",
       "2            0           3    221\n",
       "23           4           4    205\n",
       "6            1           2    181\n",
       "19           3           5    156\n",
       "24           4           5    151\n",
       "3            0           4    145\n",
       "9            1           5    136\n",
       "4            0           5    120\n",
       "16           3           2    109\n",
       "1            0           2     99\n",
       "15           3           1     92\n",
       "14           2           5     89\n",
       "21           4           2     84\n",
       "5            1           1     80\n",
       "20           4           1     77\n",
       "11           2           2     76\n",
       "10           2           1     54"
      ]
     },
     "execution_count": 9,
     "metadata": {},
     "output_type": "execute_result"
    }
   ],
   "source": [
    "df.groupby(['attendance', 'difficulty']).size().reset_index().rename(columns={0: 'count'}).sort_values('count', ascending=[False])"
   ]
  },
  {
   "cell_type": "code",
   "execution_count": 10,
   "metadata": {},
   "outputs": [],
   "source": [
    "# instr - nominal\n",
    "# class - nominal\n",
    "# nb.repeat - ratio\n",
    "# attendance - ratio\n",
    "# difficulty - "
   ]
  },
  {
   "cell_type": "markdown",
   "metadata": {},
   "source": [
    "#### Let's analyze the 'attendance' column"
   ]
  },
  {
   "cell_type": "code",
   "execution_count": 11,
   "metadata": {},
   "outputs": [
    {
     "data": {
      "image/png": "[encoded data removed]",
      "text/plain": [
       "<Figure size 432x288 with 1 Axes>"
      ]
     },
     "metadata": {
      "needs_background": "light"
     },
     "output_type": "display_data"
    }
   ],
   "source": [
    "# Create figure and axes\n",
    "fig, ax = plt.subplots(1)\n",
    "\n",
    "bins = [i for i in range(0, 6)]\n",
    "attendance = np.array(df['attendance'])\n",
    "# n - the count of each attendance value\n",
    "# bins - the columns\n",
    "# patches - the refference to the rectangles\n",
    "n, bins, patches = plt.hist(attendance, bins=bins, histtype='bar', facecolor='c')\n",
    "\n",
    "plt.xticks(bins)\n",
    "\n",
    "plt.xlabel('Level of attendance')\n",
    "plt.ylabel('Frequency')\n",
    "#plt.title('Level of attendance distribution')\n",
    "\n",
    "mean = df['attendance'].describe()['mean'] # mean of distribution\n",
    "std = df['attendance'].describe()['std'] # standard deviation of distribution\n",
    "\n",
    "rect = Rectangle((mean - std, 0), mean + std, n[0], linewidth=1,edgecolor='r',facecolor='r', alpha=0.2)\n",
    "ax.add_patch(rect)\n",
    "\n",
    "line = plt.axvline(mean, color='r', linestyle='dashed', linewidth=1)\n",
    "#plt.text(mean*1.1, max(n)*0.9, 'Mean: {:.2f}'.format(mean))\n",
    "#plt.text(mean*1.1, max(n)*0.8, 'STD: {:.2f}'.format(std))\n",
    "\n",
    "_ = plt.title(r'Histogram of attendance level: $\\mu={:.2f}$, $\\sigma={:.2f}$'.format(mean, std))"
   ]
  },
  {
   "cell_type": "code",
   "execution_count": 12,
   "metadata": {},
   "outputs": [
    {
     "data": {
      "text/plain": [
       "attendance\n",
       "0    1.765510\n",
       "1    3.177043\n",
       "2    3.281566\n",
       "3    3.330671\n",
       "4    3.317967\n",
       "Name: mean, dtype: float64"
      ]
     },
     "execution_count": 12,
     "metadata": {},
     "output_type": "execute_result"
    }
   ],
   "source": [
    "df.groupby('attendance')['difficulty'].describe()['mean']"
   ]
  },
  {
   "cell_type": "code",
   "execution_count": 68,
   "metadata": {},
   "outputs": [
    {
     "name": "stdout",
     "output_type": "stream",
     "text": [
      "1 303 10.231023102310232\n",
      "3 904 13.938053097345133\n",
      "5 656 6.859756097560976\n",
      "6 558 11.469534050179211\n",
      "8 500 24.2\n",
      "9 571 29.947460595446586\n",
      "10 448 5.133928571428571\n",
      "11 484 10.950413223140496\n",
      "13 841 22.59215219976219\n"
     ]
    }
   ],
   "source": [
    "#df.groupby(['nb.repeat', 'attendance', 'difficulty']).count()[['nb.repeat', 'attendance']]\n",
    "df.groupby('class')['nb.repeat'].describe()\n",
    "\n",
    "total_per_class = df.groupby('class').agg({'class': 'count'}).rename(columns={'class': 'class_count'})  # class_nr, total\n",
    "total_per_class = total_per_class[total_per_class['class_count'] >= 200] # so that one person represents at most .5%\n",
    "temp = df[df['nb.repeat'] > 1].groupby(['class'])[['class']].count().rename(columns={'class': 'repeat_count'})\n",
    "df.groupby(['class', 'instr']).count()['nb.repeat']\n",
    "total_per_instr = df[df['nb.repeat'] > 1].groupby(['class', 'nb.repeat', 'instr']).count()\n",
    "total_per_instr.head()\n",
    "for index in total_per_class.index:\n",
    "    count = temp.loc[index]['repeat_count']\n",
    "    class_ = index\n",
    "    total = total_per_class.loc[index]['class_count']\n",
    "    print(index, total, count / total * 100)"
   ]
  },
  {
   "cell_type": "code",
   "execution_count": 116,
   "metadata": {},
   "outputs": [
    {
     "data": {
      "text/html": [
       "<div>\n",
       "<style scoped>\n",
       "    .dataframe tbody tr th:only-of-type {\n",
       "        vertical-align: middle;\n",
       "    }\n",
       "\n",
       "    .dataframe tbody tr th {\n",
       "        vertical-align: top;\n",
       "    }\n",
       "\n",
       "    .dataframe thead th {\n",
       "        text-align: right;\n",
       "    }\n",
       "</style>\n",
       "<table border=\"1\" class=\"dataframe\">\n",
       "  <thead>\n",
       "    <tr style=\"text-align: right;\">\n",
       "      <th></th>\n",
       "      <th></th>\n",
       "      <th>count</th>\n",
       "    </tr>\n",
       "    <tr>\n",
       "      <th>class</th>\n",
       "      <th>instr</th>\n",
       "      <th></th>\n",
       "    </tr>\n",
       "  </thead>\n",
       "  <tbody>\n",
       "    <tr>\n",
       "      <th>1</th>\n",
       "      <th>2</th>\n",
       "      <td>303</td>\n",
       "    </tr>\n",
       "    <tr>\n",
       "      <th>2</th>\n",
       "      <th>1</th>\n",
       "      <td>140</td>\n",
       "    </tr>\n",
       "    <tr>\n",
       "      <th>3</th>\n",
       "      <th>3</th>\n",
       "      <td>904</td>\n",
       "    </tr>\n",
       "    <tr>\n",
       "      <th>4</th>\n",
       "      <th>3</th>\n",
       "      <td>187</td>\n",
       "    </tr>\n",
       "    <tr>\n",
       "      <th>5</th>\n",
       "      <th>3</th>\n",
       "      <td>656</td>\n",
       "    </tr>\n",
       "    <tr>\n",
       "      <th>6</th>\n",
       "      <th>2</th>\n",
       "      <td>558</td>\n",
       "    </tr>\n",
       "    <tr>\n",
       "      <th>7</th>\n",
       "      <th>1</th>\n",
       "      <td>187</td>\n",
       "    </tr>\n",
       "    <tr>\n",
       "      <th>8</th>\n",
       "      <th>3</th>\n",
       "      <td>500</td>\n",
       "    </tr>\n",
       "    <tr>\n",
       "      <th>9</th>\n",
       "      <th>3</th>\n",
       "      <td>571</td>\n",
       "    </tr>\n",
       "    <tr>\n",
       "      <th>10</th>\n",
       "      <th>1</th>\n",
       "      <td>448</td>\n",
       "    </tr>\n",
       "    <tr>\n",
       "      <th>11</th>\n",
       "      <th>2</th>\n",
       "      <td>484</td>\n",
       "    </tr>\n",
       "    <tr>\n",
       "      <th>12</th>\n",
       "      <th>3</th>\n",
       "      <td>41</td>\n",
       "    </tr>\n",
       "    <tr>\n",
       "      <th rowspan=\"2\" valign=\"top\">13</th>\n",
       "      <th>2</th>\n",
       "      <td>99</td>\n",
       "    </tr>\n",
       "    <tr>\n",
       "      <th>3</th>\n",
       "      <td>742</td>\n",
       "    </tr>\n",
       "  </tbody>\n",
       "</table>\n",
       "</div>"
      ],
      "text/plain": [
       "             count\n",
       "class instr       \n",
       "1     2        303\n",
       "2     1        140\n",
       "3     3        904\n",
       "4     3        187\n",
       "5     3        656\n",
       "6     2        558\n",
       "7     1        187\n",
       "8     3        500\n",
       "9     3        571\n",
       "10    1        448\n",
       "11    2        484\n",
       "12    3         41\n",
       "13    2         99\n",
       "      3        742"
      ]
     },
     "execution_count": 116,
     "metadata": {},
     "output_type": "execute_result"
    }
   ],
   "source": [
    "total_per_class_instr = df.groupby(['class', 'instr']).agg({'class': 'count'}).rename(columns={'class': 'count'})\n",
    "#total_per_class_instr = total_per_class_instr[total_per_class_instr['count'] >= 200]\n",
    "total_repeat_per_instr = df[df['nb.repeat'] > 1].groupby(['class', 'instr']).agg({'class': 'count'}).rename(columns={'class': 'count'})\n",
    "total_per_class_instr\n",
    "#df[(df['class'] == total_per_class_instr['class']) & (df['instr'] == total_per_class_instr['instr'])]"
   ]
  }
 ],
 "metadata": {
  "kernelspec": {
   "display_name": "Python 3",
   "language": "python",
   "name": "python3"
  },
  "language_info": {
   "codemirror_mode": {
    "name": "ipython",
    "version": 3
   },
   "file_extension": ".py",
   "mimetype": "text/x-python",
   "name": "python",
   "nbconvert_exporter": "python",
   "pygments_lexer": "ipython3",
   "version": "3.7.3"
  }
 },
 "nbformat": 4,
 "nbformat_minor": 2
}
